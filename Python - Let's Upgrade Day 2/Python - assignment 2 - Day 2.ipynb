{
 "cells": [
  {
   "cell_type": "markdown",
   "id": "a376ce82",
   "metadata": {},
   "source": [
    "## List"
   ]
  },
  {
   "cell_type": "code",
   "execution_count": 13,
   "id": "999df1e8",
   "metadata": {},
   "outputs": [],
   "source": [
    "list = [1,2,3,4,4,5,5,5,6,6,7,8,9,10]"
   ]
  },
  {
   "cell_type": "code",
   "execution_count": 18,
   "id": "e51b8c4f",
   "metadata": {},
   "outputs": [
    {
     "name": "stdout",
     "output_type": "stream",
     "text": [
      "Enter a value to be removed from list : 4\n"
     ]
    }
   ],
   "source": [
    "val=int(input(\"Enter a value to be removed from list : \"))"
   ]
  },
  {
   "cell_type": "markdown",
   "id": "5d4e478e",
   "metadata": {},
   "source": [
    "### Remove occurance of an elemnt throughout the list"
   ]
  },
  {
   "cell_type": "code",
   "execution_count": 15,
   "id": "d2f4d20d",
   "metadata": {},
   "outputs": [],
   "source": [
    "def temp(list1,val):\n",
    "    fin_list= [i for i in list if i!=val]\n",
    "    return fin_list"
   ]
  },
  {
   "cell_type": "code",
   "execution_count": 16,
   "id": "904dd0f7",
   "metadata": {},
   "outputs": [
    {
     "name": "stdout",
     "output_type": "stream",
     "text": [
      "List is  [1, 2, 3, 4, 4, 5, 5, 5, 6, 6, 7, 8, 9, 10]\n"
     ]
    }
   ],
   "source": [
    "print(\"List is \",list1)"
   ]
  },
  {
   "cell_type": "markdown",
   "id": "2bb852f2",
   "metadata": {},
   "source": [
    "### new list"
   ]
  },
  {
   "cell_type": "code",
   "execution_count": 19,
   "id": "89673ab2",
   "metadata": {},
   "outputs": [
    {
     "data": {
      "text/plain": [
       "[1, 2, 3, 5, 5, 5, 6, 6, 7, 8, 9, 10]"
      ]
     },
     "execution_count": 19,
     "metadata": {},
     "output_type": "execute_result"
    }
   ],
   "source": [
    "temp(list,val)"
   ]
  },
  {
   "cell_type": "code",
   "execution_count": null,
   "id": "7a2dd377",
   "metadata": {},
   "outputs": [],
   "source": []
  }
 ],
 "metadata": {
  "kernelspec": {
   "display_name": "Python 3",
   "language": "python",
   "name": "python3"
  },
  "language_info": {
   "codemirror_mode": {
    "name": "ipython",
    "version": 3
   },
   "file_extension": ".py",
   "mimetype": "text/x-python",
   "name": "python",
   "nbconvert_exporter": "python",
   "pygments_lexer": "ipython3",
   "version": "3.8.10"
  }
 },
 "nbformat": 4,
 "nbformat_minor": 5
}
