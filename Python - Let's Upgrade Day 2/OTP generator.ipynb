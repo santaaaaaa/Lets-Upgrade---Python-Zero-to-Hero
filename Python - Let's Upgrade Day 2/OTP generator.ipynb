{
 "cells": [
  {
   "cell_type": "markdown",
   "id": "9617e450",
   "metadata": {},
   "source": [
    "### Import libraries"
   ]
  },
  {
   "cell_type": "code",
   "execution_count": 1,
   "id": "5e44ff0a",
   "metadata": {},
   "outputs": [],
   "source": [
    "import math, random"
   ]
  },
  {
   "cell_type": "markdown",
   "id": "d7e40bb1",
   "metadata": {},
   "source": [
    "### User defined function for otp generation"
   ]
  },
  {
   "cell_type": "code",
   "execution_count": 11,
   "id": "5e079b78",
   "metadata": {},
   "outputs": [],
   "source": [
    "def generateOTP() :\n",
    "    numbers = \"0123456789\"\n",
    "    OTP = \"\"\n",
    "    for i in range(6) :\n",
    "        OTP += numbers[math.floor(random.random() * 10)]\n",
    " \n",
    "    return OTP"
   ]
  },
  {
   "cell_type": "markdown",
   "id": "69ce5e7a",
   "metadata": {},
   "source": [
    "### Print OTP"
   ]
  },
  {
   "cell_type": "code",
   "execution_count": 10,
   "id": "6528581e",
   "metadata": {},
   "outputs": [
    {
     "name": "stdout",
     "output_type": "stream",
     "text": [
      "OTP of 6 digits: 199190\n"
     ]
    }
   ],
   "source": [
    "if __name__ == \"__main__\" :\n",
    "     \n",
    "    print(\"OTP of 6 digits:\", generateOTP())"
   ]
  },
  {
   "cell_type": "code",
   "execution_count": null,
   "id": "fbf0209d",
   "metadata": {},
   "outputs": [],
   "source": []
  }
 ],
 "metadata": {
  "kernelspec": {
   "display_name": "Python 3",
   "language": "python",
   "name": "python3"
  },
  "language_info": {
   "codemirror_mode": {
    "name": "ipython",
    "version": 3
   },
   "file_extension": ".py",
   "mimetype": "text/x-python",
   "name": "python",
   "nbconvert_exporter": "python",
   "pygments_lexer": "ipython3",
   "version": "3.8.10"
  }
 },
 "nbformat": 4,
 "nbformat_minor": 5
}
