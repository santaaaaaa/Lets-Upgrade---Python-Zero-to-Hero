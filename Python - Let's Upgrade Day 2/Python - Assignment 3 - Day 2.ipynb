{
 "cells": [
  {
   "cell_type": "markdown",
   "id": "398c8099",
   "metadata": {},
   "source": [
    "### Check for Pangram"
   ]
  },
  {
   "cell_type": "code",
   "execution_count": 5,
   "id": "4a523f3f",
   "metadata": {},
   "outputs": [],
   "source": [
    "def pangram(str):\n",
    "   alphabet = \"abcdefghijklmnopqrstuvwxyz\"\n",
    "   for j in alphabet:\n",
    "      if j not in str.lower():\n",
    "         return False\n",
    "   return True"
   ]
  },
  {
   "cell_type": "markdown",
   "id": "3dc49247",
   "metadata": {},
   "source": [
    "### Taking input"
   ]
  },
  {
   "cell_type": "code",
   "execution_count": 6,
   "id": "7794df65",
   "metadata": {},
   "outputs": [
    {
     "name": "stdout",
     "output_type": "stream",
     "text": [
      "enter a string :he is good\n"
     ]
    }
   ],
   "source": [
    "input_str = str(input(\"enter a string :\"))"
   ]
  },
  {
   "cell_type": "code",
   "execution_count": 7,
   "id": "0c6341ad",
   "metadata": {},
   "outputs": [
    {
     "name": "stdout",
     "output_type": "stream",
     "text": [
      "No,The string is not a pangram\n"
     ]
    }
   ],
   "source": [
    "if(pangram(string) == True):\n",
    "   print(\"Yes,The string is a pangram\")\n",
    "else:\n",
    "   print(\"No,The string is not a pangram\")"
   ]
  },
  {
   "cell_type": "code",
   "execution_count": null,
   "id": "f9f577aa",
   "metadata": {},
   "outputs": [],
   "source": []
  }
 ],
 "metadata": {
  "kernelspec": {
   "display_name": "Python 3",
   "language": "python",
   "name": "python3"
  },
  "language_info": {
   "codemirror_mode": {
    "name": "ipython",
    "version": 3
   },
   "file_extension": ".py",
   "mimetype": "text/x-python",
   "name": "python",
   "nbconvert_exporter": "python",
   "pygments_lexer": "ipython3",
   "version": "3.8.10"
  }
 },
 "nbformat": 4,
 "nbformat_minor": 5
}
