{
 "cells": [
  {
   "cell_type": "markdown",
   "id": "be669409",
   "metadata": {},
   "source": [
    "### Reciever list "
   ]
  },
  {
   "cell_type": "code",
   "execution_count": 9,
   "id": "46cd7d6e",
   "metadata": {},
   "outputs": [],
   "source": [
    "reciever = [2 , 1 , 5 , 3 , 4]"
   ]
  },
  {
   "cell_type": "code",
   "execution_count": 10,
   "id": "82103a3b",
   "metadata": {},
   "outputs": [],
   "source": [
    "dict = {\n",
    "    (reciever_list.index(reciever_list[0])+1):reciever_list[0],\n",
    "    (reciever_list.index(reciever_list[1])+1):reciever_list[1],\n",
    "    (reciever_list.index(reciever_list[2])+1):reciever_list[2],\n",
    "    (reciever_list.index(reciever_list[3])+1):reciever_list[3],\n",
    "    (reciever_list.index(reciever_list[4])+1):reciever_list[4]\n",
    "    }"
   ]
  },
  {
   "cell_type": "markdown",
   "id": "a23bd5e7",
   "metadata": {},
   "source": [
    "### viewing the dictionary"
   ]
  },
  {
   "cell_type": "code",
   "execution_count": 3,
   "id": "8e385f52",
   "metadata": {},
   "outputs": [
    {
     "data": {
      "text/plain": [
       "{1: 2, 2: 1, 3: 5, 4: 3, 5: 4}"
      ]
     },
     "execution_count": 3,
     "metadata": {},
     "output_type": "execute_result"
    }
   ],
   "source": [
    "dict"
   ]
  },
  {
   "cell_type": "markdown",
   "id": "3b6e6d01",
   "metadata": {},
   "source": [
    "### Assigning the index of gift giver to the reciever"
   ]
  },
  {
   "cell_type": "code",
   "execution_count": 11,
   "id": "b696e70d",
   "metadata": {},
   "outputs": [],
   "source": [
    "key_list = list(dict.keys())\n",
    "val_list = list(dict.values())\n",
    "giver=[0,0,0,0,0]\n",
    "for i in range(5):\n",
    "    position = val_list.index(reciever_list[i])\n",
    "    giver[val_list[position]-1] = key_list[position]"
   ]
  },
  {
   "cell_type": "code",
   "execution_count": 12,
   "id": "27c9caf6",
   "metadata": {},
   "outputs": [
    {
     "name": "stdout",
     "output_type": "stream",
     "text": [
      "[2, 1, 4, 5, 3]\n"
     ]
    }
   ],
   "source": [
    "print(giver)"
   ]
  },
  {
   "cell_type": "code",
   "execution_count": null,
   "id": "58cb6474",
   "metadata": {},
   "outputs": [],
   "source": []
  }
 ],
 "metadata": {
  "kernelspec": {
   "display_name": "Python 3",
   "language": "python",
   "name": "python3"
  },
  "language_info": {
   "codemirror_mode": {
    "name": "ipython",
    "version": 3
   },
   "file_extension": ".py",
   "mimetype": "text/x-python",
   "name": "python",
   "nbconvert_exporter": "python",
   "pygments_lexer": "ipython3",
   "version": "3.8.10"
  }
 },
 "nbformat": 4,
 "nbformat_minor": 5
}
