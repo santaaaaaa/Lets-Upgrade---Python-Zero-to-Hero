{
 "cells": [
  {
   "cell_type": "markdown",
   "id": "f4cf7fdd",
   "metadata": {},
   "source": [
    "### Take list's length"
   ]
  },
  {
   "cell_type": "code",
   "execution_count": 26,
   "id": "153faf3e",
   "metadata": {},
   "outputs": [
    {
     "name": "stdout",
     "output_type": "stream",
     "text": [
      "Enter length of the list \n",
      "5\n"
     ]
    }
   ],
   "source": [
    "print(\"Enter length of the list \")\n",
    "l=int(input())"
   ]
  },
  {
   "cell_type": "markdown",
   "id": "e7b9c5d6",
   "metadata": {},
   "source": [
    "### Getting input list"
   ]
  },
  {
   "cell_type": "code",
   "execution_count": 27,
   "id": "0b02f420",
   "metadata": {},
   "outputs": [
    {
     "name": "stdout",
     "output_type": "stream",
     "text": [
      "1\n",
      "2\n",
      "3\n",
      "4\n",
      "5\n",
      "Input list is :  [1, 2, 3, 4, 5]\n"
     ]
    }
   ],
   "source": [
    "list=[]\n",
    "\n",
    "for i in range(l):\n",
    "    n=int(input())\n",
    "    list.append(n)\n",
    "\n",
    "print(\"Input list is : \",list)"
   ]
  },
  {
   "cell_type": "markdown",
   "id": "f4e25d66",
   "metadata": {},
   "source": [
    "### Descending order"
   ]
  },
  {
   "cell_type": "code",
   "execution_count": 28,
   "id": "fcd33f4f",
   "metadata": {},
   "outputs": [],
   "source": [
    "list.sort(reverse=True)"
   ]
  },
  {
   "cell_type": "code",
   "execution_count": 29,
   "id": "524a4eac",
   "metadata": {},
   "outputs": [
    {
     "name": "stdout",
     "output_type": "stream",
     "text": [
      "Descending order:  [5, 4, 3, 2, 1]\n"
     ]
    }
   ],
   "source": [
    "print(\"Descending order: \",list)"
   ]
  },
  {
   "cell_type": "code",
   "execution_count": null,
   "id": "b9f8f396",
   "metadata": {},
   "outputs": [],
   "source": []
  }
 ],
 "metadata": {
  "kernelspec": {
   "display_name": "Python 3",
   "language": "python",
   "name": "python3"
  },
  "language_info": {
   "codemirror_mode": {
    "name": "ipython",
    "version": 3
   },
   "file_extension": ".py",
   "mimetype": "text/x-python",
   "name": "python",
   "nbconvert_exporter": "python",
   "pygments_lexer": "ipython3",
   "version": "3.8.10"
  }
 },
 "nbformat": 4,
 "nbformat_minor": 5
}
